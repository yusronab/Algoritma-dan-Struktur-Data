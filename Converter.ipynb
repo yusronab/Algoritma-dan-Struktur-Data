{
 "cells": [
  {
   "cell_type": "code",
   "execution_count": 1,
   "metadata": {},
   "outputs": [
    {
     "name": "stdout",
     "output_type": "stream",
     "text": [
      "===== hai Yusron =====\n"
     ]
    }
   ],
   "source": [
    "print(\"===== hai Yusron =====\")"
   ]
  },
  {
   "cell_type": "code",
   "execution_count": 62,
   "metadata": {},
   "outputs": [
    {
     "name": "stdout",
     "output_type": "stream",
     "text": [
      "masukan bilangan desimal: 15\n",
      "\n",
      " 15 = 1111 biner\n",
      "\n",
      " 15 = 17 octal\n",
      "\n",
      " 15 = f hexadesimal\n"
     ]
    }
   ],
   "source": [
    "#convert desimal -> biner, octal, hexadesimal\n",
    "\n",
    "inputDesimal = int(input(\"masukan bilangan desimal: \"))\n",
    "\n",
    "print(\"\\n\",inputDesimal,\"=\",(bin(inputDesimal).replace(\"0b\",\"\")),\"biner\")\n",
    "print(\"\\n\",inputDesimal,\"=\",(oct(inputDesimal).replace(\"0o\",\"\")),\"octal\")\n",
    "print(\"\\n\",inputDesimal,\"=\",(hex(inputDesimal).replace(\"0x\",\"\")),\"hexadesimal\")"
   ]
  },
  {
   "cell_type": "code",
   "execution_count": 64,
   "metadata": {},
   "outputs": [
    {
     "name": "stdout",
     "output_type": "stream",
     "text": [
      "masukan bilangan biner: 1111\n",
      "\n",
      " 1111 = 15 desimal\n",
      "\n",
      " 1111 = 17 octal\n",
      "\n",
      " 1111 = f hexadesimal\n"
     ]
    }
   ],
   "source": [
    "#convert biner -> desimal, octal, hexadesimal\n",
    "\n",
    "inputBiner = input(\"masukan bilangan biner: \")\n",
    "hasilDesimal = 0\n",
    "key = len(inputBiner)-1\n",
    "\n",
    "for i in range(len(inputBiner)):\n",
    "    desimal = int(inputBiner[i])*(2**key)\n",
    "    hasilDesimal += desimal\n",
    "    key -= 1\n",
    "    \n",
    "print(\"\\n\",inputBiner,\"=\",hasilDesimal,\"desimal\")\n",
    "print(\"\\n\",inputBiner,\"=\",(oct(hasilDesimal).replace(\"0o\",\"\")),\"octal\")\n",
    "print(\"\\n\",inputBiner,\"=\",(hex(hasilDesimal).replace(\"0x\",\"\")),\"hexadesimal\")"
   ]
  },
  {
   "cell_type": "code",
   "execution_count": 83,
   "metadata": {},
   "outputs": [
    {
     "name": "stdout",
     "output_type": "stream",
     "text": [
      "masukan bilangan octal: 17\n",
      "\n",
      " 17 = 15 desimal\n",
      "\n",
      " 17 = 1111 biner\n",
      "\n",
      " 17 = f hexadesimal\n"
     ]
    }
   ],
   "source": [
    "#convert octal -> desimal, biner, hexadesimal\n",
    "\n",
    "inputOctal = int(input(\"masukan bilangan octal: \"))\n",
    "hasilDesimal = 0\n",
    "key = inputOctal\n",
    "i = 0\n",
    "\n",
    "while key > 0:\n",
    "    hasilDesimal += int(key % 10)*8**i\n",
    "    key = int(key / 10)\n",
    "    i += 1\n",
    "    \n",
    "print(\"\\n\",inputOctal,\"=\",hasilDesimal,\"desimal\")\n",
    "print(\"\\n\",inputOctal,\"=\",(bin(hasilDesimal).replace(\"0b\",\"\")),\"biner\")\n",
    "print(\"\\n\",inputOctal,\"=\",(hex(hasilDesimal).replace(\"0x\",\"\")),\"hexadesimal\")"
   ]
  },
  {
   "cell_type": "code",
   "execution_count": 82,
   "metadata": {},
   "outputs": [
    {
     "name": "stdout",
     "output_type": "stream",
     "text": [
      "masukan bilangan hexadesimal: f\n",
      "\n",
      " 15 desimal\n",
      "\n",
      " 1111 biner\n",
      "\n",
      " 17 octal\n"
     ]
    }
   ],
   "source": [
    "inputHexa = list(input(\"masukan bilangan hexadesimal: \"))\n",
    "key = len(inputHexa)\n",
    "hasilDesimal = 0\n",
    "\n",
    "for i in range(key):\n",
    "    x = inputHexa.pop()\n",
    "    if x == \"1\":\n",
    "        hasilDesimal += (16**i)*1\n",
    "    elif x == \"2\":\n",
    "        hasilDesimal += (16**i)*2\n",
    "    elif x == \"3\":\n",
    "        hasilDesimal += (16**i)*3\n",
    "    elif x == \"4\":\n",
    "        hasilDesimal += (16**i)*4\n",
    "    elif x == \"5\":\n",
    "        hasilDesimal += (16**i)*5\n",
    "    elif x == \"6\":\n",
    "        hasilDesimal += (16**i)*6\n",
    "    elif x == \"7\":\n",
    "        hasilDesimal += (16**i)*7\n",
    "    elif x == \"8\":\n",
    "        hasilDesimal += (16**i)*8\n",
    "    elif x == \"9\":\n",
    "        hasilDesimal += (16**i)*9\n",
    "    elif x.lower() == \"a\":\n",
    "        hasilDesimal += (16**i)*10\n",
    "    elif x.lower() == \"b\":\n",
    "        hasilDesimal += (16**i)*11\n",
    "    elif x.lower() == \"c\":\n",
    "        hasilDesimal += (16**i)*12\n",
    "    elif x.lower() == \"d\":\n",
    "        hasilDesimal += (16**i)*13\n",
    "    elif x.lower() == \"e\":\n",
    "        hasilDesimal += (16**i)*14\n",
    "    elif x.lower() == \"f\":\n",
    "        hasilDesimal += (16**i)*15\n",
    "        \n",
    "print(\"\\n\",hasilDesimal,\"desimal\")\n",
    "print(\"\\n\",(bin(hasilDesimal).replace(\"0b\",\"\")),\"biner\")\n",
    "print(\"\\n\",(oct(hasilDesimal).replace(\"0o\",\"\")),\"octal\")"
   ]
  }
 ],
 "metadata": {
  "kernelspec": {
   "display_name": "Python 3",
   "language": "python",
   "name": "python3"
  },
  "language_info": {
   "codemirror_mode": {
    "name": "ipython",
    "version": 3
   },
   "file_extension": ".py",
   "mimetype": "text/x-python",
   "name": "python",
   "nbconvert_exporter": "python",
   "pygments_lexer": "ipython3",
   "version": "3.8.3"
  }
 },
 "nbformat": 4,
 "nbformat_minor": 4
}
