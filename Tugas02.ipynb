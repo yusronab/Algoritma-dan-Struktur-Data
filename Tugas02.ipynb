{
 "cells": [
  {
   "cell_type": "code",
   "execution_count": 4,
   "metadata": {},
   "outputs": [
    {
     "name": "stdout",
     "output_type": "stream",
     "text": [
      "saya suka programming\n",
      "saya suka programming\n",
      "saya suka programming\n",
      "saya suka programming\n",
      "saya suka programming\n"
     ]
    }
   ],
   "source": [
    "#Yusron Arly Bazarah\n",
    "\n",
    "print(\"saya suka programming\")\n",
    "print(\"saya suka programming\")\n",
    "print(\"saya suka programming\")\n",
    "print(\"saya suka programming\")\n",
    "print(\"saya suka programming\")"
   ]
  },
  {
   "cell_type": "code",
   "execution_count": 7,
   "metadata": {},
   "outputs": [
    {
     "name": "stdout",
     "output_type": "stream",
     "text": [
      "615.44\n"
     ]
    }
   ],
   "source": [
    "#Yusron Arly Bazarah\n",
    "\n",
    "r= 14\n",
    "l= 3.14*r*r\n",
    "print (l)"
   ]
  },
  {
   "cell_type": "code",
   "execution_count": 1,
   "metadata": {},
   "outputs": [
    {
     "name": "stdout",
     "output_type": "stream",
     "text": [
      "saya Yusron Arly, saya membuat program menghitung balok\n",
      "panjang= 5\n",
      "lebar= 7\n",
      "tinggi= 10\n",
      "volume balok= 350\n"
     ]
    }
   ],
   "source": [
    "#Yusron Arly Bazarah\n",
    "\n",
    "print(\"saya Yusron Arly, saya membuat program menghitung balok\")\n",
    "p= 5\n",
    "l= 7\n",
    "t= 10\n",
    "V= p*l*t\n",
    "print(\"panjang=\", p)\n",
    "print(\"lebar=\", l)\n",
    "print(\"tinggi=\", t)\n",
    "print(\"volume balok=\", V)"
   ]
  },
  {
   "cell_type": "code",
   "execution_count": null,
   "metadata": {},
   "outputs": [],
   "source": []
  }
 ],
 "metadata": {
  "kernelspec": {
   "display_name": "Python 3",
   "language": "python",
   "name": "python3"
  },
  "language_info": {
   "codemirror_mode": {
    "name": "ipython",
    "version": 3
   },
   "file_extension": ".py",
   "mimetype": "text/x-python",
   "name": "python",
   "nbconvert_exporter": "python",
   "pygments_lexer": "ipython3",
   "version": "3.8.3"
  }
 },
 "nbformat": 4,
 "nbformat_minor": 4
}
