{
 "cells": [
  {
   "cell_type": "code",
   "execution_count": 20,
   "metadata": {},
   "outputs": [
    {
     "name": "stdout",
     "output_type": "stream",
     "text": [
      "hasil 10 + 5 = 15\n",
      "hasil 10 - 5 = 5\n",
      "hasil 10 * 5 = 50\n",
      "hasil 10 / 5 = 2\n",
      "hasil 10 % 5 = 0\n",
      "hasil 10 ** 5 = 100000\n"
     ]
    }
   ],
   "source": [
    "#yusron arly bazarah\n",
    "\n",
    "a=10\n",
    "b=5\n",
    "\n",
    "#menggunakan operator penjumlahan\n",
    "c=a+b\n",
    "print(\"hasil\",a,\"+\",b,\"=\",c)\n",
    "\n",
    "#menggunakan operator pengurangan\n",
    "d=a-b\n",
    "print(\"hasil\",a,\"-\",b,\"=\",d)\n",
    "\n",
    "#menggunakan operator perkalian\n",
    "e=a*b\n",
    "print(\"hasil\",a,\"*\",b,\"=\",e)\n",
    "\n",
    "#menggunakan operator pembagian\n",
    "f=int(a/b)\n",
    "print(\"hasil\",a,\"/\",b,\"=\",f)\n",
    "\n",
    "#menggunakan operator sisa bagi\n",
    "g=a%b\n",
    "print(\"hasil\",a,\"%\",b,\"=\",g)\n",
    "\n",
    "#menggunakan operator pemangkatan\n",
    "h=a**b\n",
    "print(\"hasil\",a,\"**\",b,\"=\",h)"
   ]
  },
  {
   "cell_type": "code",
   "execution_count": 43,
   "metadata": {},
   "outputs": [
    {
     "name": "stdout",
     "output_type": "stream",
     "text": [
      "10\n",
      "15\n",
      "5\n",
      "60\n",
      "3\n",
      "1\n",
      "25\n"
     ]
    }
   ],
   "source": [
    "#yusron arly bazarah\n",
    "#operator pengisian\n",
    "a=10\n",
    "print(a)\n",
    "\n",
    "#operator penjumlahan\n",
    "a += 5\n",
    "print(a)\n",
    "\n",
    "#operator pengurangan\n",
    "b=11\n",
    "b -= 6\n",
    "print(b)\n",
    "\n",
    "#operator perkalian\n",
    "c=12\n",
    "c *= 5\n",
    "print(c)\n",
    "\n",
    "#operator pembagian\n",
    "d=15\n",
    "d /= 5\n",
    "print(int(d))\n",
    "\n",
    "#operator sisa bagi\n",
    "e=9\n",
    "e %= 4\n",
    "print(e)\n",
    "\n",
    "#operator pemangkatan\n",
    "f=5\n",
    "f **= 2\n",
    "print(f)"
   ]
  },
  {
   "cell_type": "code",
   "execution_count": 54,
   "metadata": {},
   "outputs": [
    {
     "name": "stdout",
     "output_type": "stream",
     "text": [
      "apakah a lebih besar dari b : True\n",
      "apakah a lebih kecil dari b : False\n",
      "apakah a sama dengan b : False\n",
      "apakah a tidak sama dengan b : True\n",
      "apakah a lebih besar sama dengan b : True\n",
      "apakah a lebih kecil sama dengan b : False\n"
     ]
    }
   ],
   "source": [
    "#yusron arly bazarah\n",
    "#operator lebih besar\n",
    "a=8\n",
    "b=6\n",
    "c= a>b\n",
    "print(\"apakah a lebih besar dari b :\",c)\n",
    "\n",
    "#operator lebih kecil\n",
    "d=a<b\n",
    "print(\"apakah a lebih kecil dari b :\",d)\n",
    "\n",
    "#operator sama dengan\n",
    "e=a==b\n",
    "print(\"apakah a sama dengan b :\",e)\n",
    "\n",
    "#operator tidak sama dengan\n",
    "f=a!=b\n",
    "print(\"apakah a tidak sama dengan b :\",f)\n",
    "\n",
    "#operator lebih besar sama dengan\n",
    "g=a>=b\n",
    "print(\"apakah a lebih besar sama dengan b :\",g)\n",
    "\n",
    "#operator lebih kecil sama dengan\n",
    "h=a<=b\n",
    "print(\"apakah a lebih kecil sama dengan b :\", h)"
   ]
  },
  {
   "cell_type": "code",
   "execution_count": 68,
   "metadata": {},
   "outputs": [
    {
     "name": "stdout",
     "output_type": "stream",
     "text": [
      "False\n",
      "True\n",
      "False\n",
      "True\n"
     ]
    }
   ],
   "source": [
    "#yusron arly bazarah\n",
    "\n",
    "a=True\n",
    "b=False\n",
    "\n",
    "#logika AND\n",
    "c= a and b\n",
    "print(c)\n",
    "\n",
    "#logika OR\n",
    "d= a or b\n",
    "print(d)\n",
    "\n",
    "#negasi/kebalikan\n",
    "f=not a\n",
    "print(f)\n",
    "g=not b\n",
    "print(g)"
   ]
  },
  {
   "cell_type": "code",
   "execution_count": 70,
   "metadata": {},
   "outputs": [
    {
     "name": "stdout",
     "output_type": "stream",
     "text": [
      "masukan nama bayi soffel\n",
      "masukan berat badan bayi dalam kg 5\n",
      "nama bayi adalah soffel\n",
      "berat dalam kg adalah 5\n",
      "berat dalam ons adalah 50\n",
      "berat bayi 1 bulan kedepan harus ditambahkan 30 ons sehingga menjadi 80\n"
     ]
    }
   ],
   "source": [
    "#yusron arly bazarah\n",
    "#mengambil input\n",
    "name= input(\"masukan nama bayi \")\n",
    "bb= int(input(\"masukan berat badan bayi dalam kg \"))\n",
    "\n",
    "bb_ons= bb * 10\n",
    "bb_ons2= bb_ons + 30\n",
    "\n",
    "#menampilkan output\n",
    "print(\"nama bayi adalah\", name)\n",
    "print(\"berat dalam kg adalah\", bb)\n",
    "print(\"berat dalam ons adalah\", bb_ons)\n",
    "print(\"berat bayi 1 bulan kedepan harus ditambahkan 30 ons sehingga menjadi\", bb_ons2)"
   ]
  }
 ],
 "metadata": {
  "kernelspec": {
   "display_name": "Python 3",
   "language": "python",
   "name": "python3"
  },
  "language_info": {
   "codemirror_mode": {
    "name": "ipython",
    "version": 3
   },
   "file_extension": ".py",
   "mimetype": "text/x-python",
   "name": "python",
   "nbconvert_exporter": "python",
   "pygments_lexer": "ipython3",
   "version": "3.8.3"
  }
 },
 "nbformat": 4,
 "nbformat_minor": 4
}
