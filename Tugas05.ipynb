{
 "cells": [
  {
   "cell_type": "code",
   "execution_count": 1,
   "metadata": {},
   "outputs": [
    {
     "name": "stdout",
     "output_type": "stream",
     "text": [
      "i like programming\n",
      "because i proud to make something new\n"
     ]
    }
   ],
   "source": [
    "#yusron arly bazarah\n",
    "#membuat fungsi 1\n",
    "def alasan():\n",
    "    print(\"because i proud to make something new\")\n",
    "    \n",
    "#membuat fungsi 2\n",
    "def hobi():\n",
    "    print(\"i like programming\")\n",
    "    \n",
    "#pemanggilan fungsi\n",
    "hobi()\n",
    "alasan()"
   ]
  },
  {
   "cell_type": "code",
   "execution_count": 7,
   "metadata": {},
   "outputs": [
    {
     "name": "stdout",
     "output_type": "stream",
     "text": [
      "masukan nama anda Yusron\n",
      "nama anda adalah Yusron\n",
      "luas persegi panjang adalah 50\n",
      "luas persegi panjang adalah 5000\n"
     ]
    }
   ],
   "source": [
    "#yusron arly bazarah\n",
    "#membuat fungsi parameter\n",
    "def data():\n",
    "    nama = input(\"masukan nama anda \")\n",
    "    print(\"nama anda adalah\", nama)\n",
    "    \n",
    "data()\n",
    "\n",
    "#membuat fuungsi dengan 2 parameter\n",
    "def luas_pp(panjang, lebar):\n",
    "    luas = (panjang*lebar)\n",
    "    print(\"luas persegi panjang adalah\", luas)\n",
    "    \n",
    "#pemanggilan fungsi\n",
    "luas_pp(5, 10)\n",
    "luas_pp(100, 50)"
   ]
  },
  {
   "cell_type": "code",
   "execution_count": 1,
   "metadata": {},
   "outputs": [
    {
     "name": "stdout",
     "output_type": "stream",
     "text": [
      "masukkan panjang 1\n",
      "masukkan lebar 2\n",
      "masukkan tinggi 3\n",
      "jika luas persegi panjang 2\n",
      "maka volume balok adalah 6\n"
     ]
    }
   ],
   "source": [
    "#yusron arly bazaraah\n",
    "\n",
    "#perintah input data\n",
    "panjang = int(input(\"masukkan panjang \"))\n",
    "lebar = int(input(\"masukkan lebar \"))\n",
    "tinggi = int(input(\"masukkan tinggi \"))\n",
    "\n",
    "def luas_pp():\n",
    "    luas = panjang*lebar\n",
    "    return luas\n",
    "\n",
    "\n",
    "def volume_balok():\n",
    "    volume = luas_pp()*tinggi\n",
    "    return volume\n",
    "\n",
    "#perintah output\n",
    "print(\"jika luas persegi panjang\", luas_pp())\n",
    "print(\"maka volume balok adalah\", volume_balok())"
   ]
  },
  {
   "cell_type": "code",
   "execution_count": 10,
   "metadata": {},
   "outputs": [
    {
     "name": "stdout",
     "output_type": "stream",
     "text": [
      "masukan angka 2\n",
      "masukan angka 1\n",
      "apakah 2 sama dengan 1 ? False\n",
      "apakah 2 lebih besar dari 1 ? True\n"
     ]
    }
   ],
   "source": [
    "#yusron arly bazarah\n",
    "#input angka\n",
    "angka1= int(input(\"masukan angka \"))\n",
    "angka2= int(input(\"masukan angka \"))\n",
    "\n",
    "#fungsi\n",
    "def sama_dengan():\n",
    "    sama = angka1 == angka2\n",
    "    print(\"apakah\", angka1, \"sama dengan\" ,angka2, \"?\", sama)\n",
    "\n",
    "#fungsi\n",
    "def lebih_besar():\n",
    "    lebih = angka1 > angka2\n",
    "    print(\"apakah\", angka1,\"lebih besar dari\", angka2, \"?\", lebih)\n",
    "    \n",
    "#pemanggilan fungsi\n",
    "sama_dengan()\n",
    "lebih_besar()"
   ]
  }
 ],
 "metadata": {
  "kernelspec": {
   "display_name": "Python 3",
   "language": "python",
   "name": "python3"
  },
  "language_info": {
   "codemirror_mode": {
    "name": "ipython",
    "version": 3
   },
   "file_extension": ".py",
   "mimetype": "text/x-python",
   "name": "python",
   "nbconvert_exporter": "python",
   "pygments_lexer": "ipython3",
   "version": "3.8.3"
  }
 },
 "nbformat": 4,
 "nbformat_minor": 4
}
