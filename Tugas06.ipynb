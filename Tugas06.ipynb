{
 "cells": [
  {
   "cell_type": "code",
   "execution_count": 5,
   "metadata": {},
   "outputs": [
    {
     "name": "stdout",
     "output_type": "stream",
     "text": [
      "masukan nilai 65\n",
      "selamat anda mengikuti remidi\n"
     ]
    }
   ],
   "source": [
    "#yusron arly bazarah\n",
    "#percabangan if\n",
    "nilai = int(input(\"masukan nilai \"))\n",
    "\n",
    "if nilai <= 70:\n",
    "    print(\"selamat anda mengikuti remidi\")\n",
    "else:\n",
    "    print(\"selamat anda lulus\")"
   ]
  },
  {
   "cell_type": "code",
   "execution_count": 2,
   "metadata": {},
   "outputs": [
    {
     "name": "stdout",
     "output_type": "stream",
     "text": [
      "masukan jari-jari 10\n",
      "luas lingkaran adalah 314.0\n",
      "lingkaran ini besar\n"
     ]
    }
   ],
   "source": [
    "#yusron arly bazarah\n",
    "#luas lingkaran\n",
    "rad = int(input(\"masukan jari-jari \"))\n",
    "luas = 3.14*rad*rad\n",
    "\n",
    "print(\"luas lingkaran adalah\", luas)\n",
    "if luas >= 314:\n",
    "    print(\"lingkaran ini besar\")\n",
    "else:\n",
    "    print(\"lingkaran ini kecil\")"
   ]
  },
  {
   "cell_type": "code",
   "execution_count": 20,
   "metadata": {},
   "outputs": [
    {
     "name": "stdout",
     "output_type": "stream",
     "text": [
      "pilih program 2\n",
      "masukan sisi 10\n",
      "volume kubus adalah 1000\n"
     ]
    }
   ],
   "source": [
    "#yusron arly bazarah\n",
    "program = int(input(\"pilih program \"))\n",
    "\n",
    "#fungsivolume balok\n",
    "def volume_balok():\n",
    "    p = int(input(\"masukan panjang \"))\n",
    "    l = int(input(\"masukan lebar \"))\n",
    "    t = int(input(\"masukan tinggi \"))\n",
    "    luas = p*l*t\n",
    "    return luas\n",
    "#fungsi volume kubus\n",
    "def volume_kubus():\n",
    "    s = int(input(\"masukan sisi \"))\n",
    "    luas = s*s*s\n",
    "    return luas\n",
    "\n",
    "\n",
    "if program == 1:\n",
    "    print(\"volume balok adalah\", volume_balok())\n",
    "if program == 2:\n",
    "    print(\"volume kubus adalah\", volume_kubus())\n",
    "else:\n",
    "    print(\"not found\")"
   ]
  }
 ],
 "metadata": {
  "kernelspec": {
   "display_name": "Python 3",
   "language": "python",
   "name": "python3"
  },
  "language_info": {
   "codemirror_mode": {
    "name": "ipython",
    "version": 3
   },
   "file_extension": ".py",
   "mimetype": "text/x-python",
   "name": "python",
   "nbconvert_exporter": "python",
   "pygments_lexer": "ipython3",
   "version": "3.8.3"
  }
 },
 "nbformat": 4,
 "nbformat_minor": 4
}
