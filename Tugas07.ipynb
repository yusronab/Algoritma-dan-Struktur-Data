{
 "cells": [
  {
   "cell_type": "code",
   "execution_count": 1,
   "metadata": {},
   "outputs": [
    {
     "name": "stdout",
     "output_type": "stream",
     "text": [
      "saya tidak akan mengulangi perbuatan itu lagi\n",
      "saya tidak akan mengulangi perbuatan itu lagi\n",
      "saya tidak akan mengulangi perbuatan itu lagi\n",
      "saya tidak akan mengulangi perbuatan itu lagi\n",
      "saya tidak akan mengulangi perbuatan itu lagi\n",
      "saya tidak akan mengulangi perbuatan itu lagi\n",
      "saya tidak akan mengulangi perbuatan itu lagi\n",
      "saya tidak akan mengulangi perbuatan itu lagi\n",
      "saya tidak akan mengulangi perbuatan itu lagi\n",
      "saya tidak akan mengulangi perbuatan itu lagi\n",
      "saya tidak akan mengulangi perbuatan itu lagi\n",
      "saya tidak akan mengulangi perbuatan itu lagi\n",
      "saya tidak akan mengulangi perbuatan itu lagi\n",
      "saya tidak akan mengulangi perbuatan itu lagi\n",
      "saya tidak akan mengulangi perbuatan itu lagi\n",
      "saya tidak akan mengulangi perbuatan itu lagi\n",
      "saya tidak akan mengulangi perbuatan itu lagi\n",
      "saya tidak akan mengulangi perbuatan itu lagi\n",
      "saya tidak akan mengulangi perbuatan itu lagi\n",
      "saya tidak akan mengulangi perbuatan itu lagi\n",
      "saya tidak akan mengulangi perbuatan itu lagi\n",
      "saya tidak akan mengulangi perbuatan itu lagi\n",
      "saya tidak akan mengulangi perbuatan itu lagi\n",
      "saya tidak akan mengulangi perbuatan itu lagi\n",
      "saya tidak akan mengulangi perbuatan itu lagi\n"
     ]
    }
   ],
   "source": [
    "#Yusron Arly Bazarah\n",
    "#nomor1\n",
    "\n",
    "ulang = 25\n",
    "\n",
    "for i in range(ulang):\n",
    "    print(\"saya tidak akan mengulangi perbuatan itu lagi\")"
   ]
  },
  {
   "cell_type": "code",
   "execution_count": 3,
   "metadata": {},
   "outputs": [
    {
     "name": "stdout",
     "output_type": "stream",
     "text": [
      "nilai x = 15\n",
      "nilai x = 14\n",
      "nilai x = 13\n",
      "nilai x = 12\n",
      "nilai x = 11\n"
     ]
    }
   ],
   "source": [
    "#Yusron Arly Bazarah\n",
    "#nomor2\n",
    "\n",
    "x = 15\n",
    "\n",
    "while x>10:\n",
    "    print(\"nilai x =\", x)\n",
    "    x-=1"
   ]
  },
  {
   "cell_type": "code",
   "execution_count": 5,
   "metadata": {},
   "outputs": [
    {
     "name": "stdout",
     "output_type": "stream",
     "text": [
      "masukan angka: 10\n",
      "10 merupakan bilangan genap\n",
      "mau coba lagi? ya\n",
      "masukan angka: 11\n",
      "11 merupakan bilangan ganjil\n",
      "mau coba lagi? ya\n",
      "masukan angka: 12\n",
      "12 merupakan bilangan genap\n",
      "mau coba lagi? ya\n",
      "masukan angka: 13\n",
      "13 merupakan bilangan ganjil\n",
      "mau coba lagi? tidak\n",
      "program telah selesai\n"
     ]
    }
   ],
   "source": [
    "#Yusron Arly Bazarah\n",
    "#nomor3versi.1\n",
    "\n",
    "def pangka():\n",
    "    angka = int(input(\"masukan angka: \"))\n",
    "    if angka %2 == 0:\n",
    "        print(angka, \"merupakan bilangan genap\")\n",
    "    else:\n",
    "        print(angka, \"merupakan bilangan ganjil\")\n",
    "\n",
    "pangka()\n",
    "while(True):\n",
    "    pilih = input(\"mau coba lagi? \")\n",
    "    if pilih == \"ya\":\n",
    "        pangka()\n",
    "    else:\n",
    "        print(\"program telah selesai\")\n",
    "        break"
   ]
  },
  {
   "cell_type": "code",
   "execution_count": 9,
   "metadata": {},
   "outputs": [
    {
     "name": "stdout",
     "output_type": "stream",
     "text": [
      "masukan angka: 625\n",
      "625 merupakan angka ganjil\n"
     ]
    }
   ],
   "source": [
    "#Yusron Arly Bazarah\n",
    "#nomor3versi.2\n",
    "\n",
    "angka = int(input(\"masukan angka: \"))\n",
    "\n",
    "def agenap():\n",
    "    print(angka, \"merupakan angka genap\")\n",
    "    return\n",
    "\n",
    "def aganjil():\n",
    "    print(angka, \"merupakan angka ganjil\")\n",
    "    return\n",
    "\n",
    "if angka %2 == 0:\n",
    "    agenap()\n",
    "else:\n",
    "    aganjil()"
   ]
  }
 ],
 "metadata": {
  "kernelspec": {
   "display_name": "Python 3",
   "language": "python",
   "name": "python3"
  },
  "language_info": {
   "codemirror_mode": {
    "name": "ipython",
    "version": 3
   },
   "file_extension": ".py",
   "mimetype": "text/x-python",
   "name": "python",
   "nbconvert_exporter": "python",
   "pygments_lexer": "ipython3",
   "version": "3.8.3"
  }
 },
 "nbformat": 4,
 "nbformat_minor": 4
}
